{
 "cells": [
  {
   "cell_type": "code",
   "execution_count": 1,
   "metadata": {},
   "outputs": [],
   "source": [
    "import numpy as np\n",
    "import pandas as pd\n",
    "\n",
    "# from compiler.ast import flatten\n",
    "from random import Random\n",
    "from pandas import DataFrame\n",
    "from numpy import log\n",
    "from numpy import mat\n",
    "from numpy import ones\n",
    "from sklearn import metrics\n",
    "from sklearn import tree\n",
    "from sklearn import preprocessing\n",
    "from sklearn.tree import DecisionTreeClassifier\n",
    "from sklearn.metrics import auc\n",
    "from sklearn.metrics import precision_recall_curve\n",
    "from sklearn.metrics import roc_curve\n",
    "from sklearn.metrics import roc_auc_score\n",
    "from sklearn.metrics import accuracy_score\n",
    "import matplotlib.pyplot as pl\n",
    "from sklearn.model_selection import KFold\n",
    "from sklearn.model_selection import train_test_split"
   ]
  },
  {
   "cell_type": "code",
   "execution_count": 2,
   "metadata": {},
   "outputs": [],
   "source": [
    "class randomforest(object):\n",
    "    n_estimators=0 # 树的数量\n",
    "    max_features=0 #每棵树的选用数据集的最大特征数\n",
    "    min_samples_split=0 #每棵树最小分割数\n",
    "    min_gain=0 #每一颗树到min_gain之后就停止\n",
    "    max_depth=0 #每一颗树的最大层数\n",
    "    trees=[] #森林\n",
    "    trees_feature=[] #用来记录每一个树用了哪些特征\n",
    "    \n",
    "    def __init__(self,n_estimators=100,min_samples_split=3, min_gain=0,\n",
    "                 max_depth=None,max_features=None):\n",
    "        self.n_estimators = n_estimators\n",
    "        self.min_samples_split = min_samples_split\n",
    "        self.min_gain = min_gain\n",
    "        self.max_depth = max_depth\n",
    "        self.max_features = max_features \n",
    "        \n",
    "#         #建立森林(bulid forest)\n",
    "#         for _ in range(self.n_estimators):\n",
    "#             tree =DecisionTreeClassifier(min_samples_split=self.min_samples_split, min_impurity_split = self.min_gain,\n",
    "#                                       max_depth=self.max_depth)\n",
    "#             self.trees.append(tree)\n",
    "            #self.trees_feature.append(0)\n",
    "        \n",
    "    def get_bootstrap_data(self,X,Y):\n",
    "        # 用bookstarp的方法获得n_estimators组随机的数据\n",
    "        \n",
    "        m=X.shape[0]\n",
    "        Y=Y.reshape(m,1)\n",
    "        \n",
    "        #合并X和Y\n",
    "        X_Y=np.hstack((X,Y))\n",
    "        np.random.shuffle(X_Y) #X_Y随机化\n",
    "        \n",
    "        result_sets=[]\n",
    "        for _ in range(self.n_estimators):\n",
    "            now=np.random.choice(m,m,replace=True) #有放回,随机序列顺序\n",
    "            bootstrap_X_Y = X_Y[now,:]\n",
    "            bootstrap_X =  bootstrap_X_Y[:,:-1]\n",
    "            bootstrap_Y =  bootstrap_X_Y[:,-1:]\n",
    "            result_sets.append([bootstrap_X,bootstrap_Y])\n",
    "            \n",
    "        return result_sets\n",
    "    \n",
    "    def fit(self,X_train,Y_train):\n",
    "        # 每一颗树都通过get_bookstrap_data获得随机的数据集\n",
    "        \n",
    "        sub_sets=self.get_bootstrap_data(X_train,Y_train)\n",
    "        n_features=X_train.shape[1]\n",
    "        \n",
    "        if self.max_features == None:\n",
    "            self.max_features = int(np.sqrt(n_features))\n",
    "\n",
    "        for i in range (self.n_estimators):\n",
    "            # 现在为每一颗树选择随机的特征\n",
    "            tree =DecisionTreeClassifier(min_samples_split=self.min_samples_split\n",
    "                                         ,min_impurity_decrease = self.min_gain,max_depth=self.max_depth)\n",
    "            \n",
    "            sub_X,sub_Y=sub_sets[i]\n",
    "            features=np.random.choice(n_features,self.max_features,replace=True)\n",
    "            sub_X=sub_X[:,features]\n",
    "            #print(\"X\",sub_X)\n",
    "            #print(\"X\",sub_Y)\n",
    "            tree.fit(sub_X,sub_Y)\n",
    "            self.trees.append(tree)\n",
    "            self.trees_feature.append(features)\n",
    "    \n",
    "    def predict(self,X):\n",
    "        y_preds=[]\n",
    "        for i in range(self.n_estimators):\n",
    "            features=self.trees_feature[i]\n",
    "            sub_X=X[:,features]\n",
    "            y_pre=self.trees[i].predict(sub_X)\n",
    "            y_preds.append(y_pre)\n",
    "        \n",
    "        y_preds=np.array(y_preds).T\n",
    "        #print(y_preds)\n",
    "        y_pred=[]\n",
    "        \n",
    "        for y_p in y_preds:\n",
    "            #np.bincount()可以统计每个索引出现的次数,np.argmax()可以返回数组中最大值的索引\n",
    "            #方案一 获得众数\n",
    "            y_pred.append(np.bincount(y_p.astype('int')).argmax()) \n",
    "        #方案二 获得平均值\n",
    "        y_pred=np.mean(y_preds,axis=1)\n",
    "        #print(\"2\",mat(y_pred).shape)\n",
    "        return y_pred\n",
    "        \n",
    "        \n",
    "            \n",
    "            "
   ]
  },
  {
   "cell_type": "code",
   "execution_count": 3,
   "metadata": {},
   "outputs": [],
   "source": [
    "def get_data():\n",
    "    adult_header=[\"age\",\"workclass\",\"fnlwgt\",\"education\",\"education-num\",\n",
    "              \"marital-status\",\"occupation\",\"relationship\",\"race\",\"sex\",\"capital-gain\",\n",
    "              \"capital-loss\",\"hours-per-week\",\"native-country\",\"label\"]\n",
    "    adult_data=pd.read_csv(\"./adult.data\",index_col=False,names=adult_header)\n",
    "    adult_test=pd.read_csv(\"./adult2.test\",index_col=False,names=adult_header)\n",
    "    #adult_data.shape\n",
    "    #adult2.test的数据是adult的数据删去label的最后一个字符\".\"得到的;\n",
    "    adult_data[adult_data==\" ?\"]=np.nan\n",
    "    adult_test[adult_test==\" ?\"]=np.nan\n",
    "    #print(adult_data[\"age\"])\n",
    "    adult_data.dropna(axis=0,how='any',inplace=True)\n",
    "    adult_test.dropna(axis=0,how='any',inplace=True)\n",
    "    discre_name=[\"workclass\",\"education\",\"marital-status\",\n",
    "             \"occupation\",\"relationship\",\"race\",\n",
    "             \"sex\",\"native-country\",\"label\"]\n",
    "    for name in discre_name:\n",
    "        key=np.unique(adult_data[name])\n",
    "        #print(key)\n",
    "        le=preprocessing.LabelEncoder()\n",
    "        le.fit(key)\n",
    "        adult_test[name]=le.transform(adult_test[name])\n",
    "        adult_data[name]=le.transform(adult_data[name])\n",
    "    \n",
    "    data = np.vstack((adult_data, adult_test))\n",
    "    X = data[:, 0:-1]\n",
    "    Y = data[:, -1]\n",
    "    return X, Y\n",
    "#print(adult_data)"
   ]
  },
  {
   "cell_type": "code",
   "execution_count": 4,
   "metadata": {},
   "outputs": [],
   "source": [
    "# adult_header=[\"age\",\"workclass\",\"fnlwgt\",\"education\",\"education-num\",\n",
    "#               \"marital-status\",\"occupation\",\"relationship\",\"race\",\"sex\",\"capital-gain\",\n",
    "#               \"capital-loss\",\"hours-per-week\",\"native-country\",\"label\"]\n",
    "# adult_data=pd.read_csv(\"./adult.data\",index_col=False,names=adult_header)\n",
    "# adult_test=pd.read_csv(\"./adult2.test\",index_col=False,names=adult_header)"
   ]
  },
  {
   "cell_type": "code",
   "execution_count": 5,
   "metadata": {},
   "outputs": [],
   "source": [
    "# adult_data[adult_data==\" ?\"]=np.nan\n",
    "# adult_test[adult_test==\" ?\"]=np.nan\n",
    "# #print(adult_data[\"age\"])\n",
    "# adult_data.dropna(axis=0,how='any',inplace=True)\n",
    "# adult_test.dropna(axis=0,how='any',inplace=True)"
   ]
  },
  {
   "cell_type": "code",
   "execution_count": 6,
   "metadata": {},
   "outputs": [],
   "source": [
    "# discre_name=[\"workclass\",\"education\",\"marital-status\",\n",
    "#              \"occupation\",\"relationship\",\"race\",\n",
    "#              \"sex\",\"native-country\",\"label\"]\n",
    "# for name in discre_name:\n",
    "#     key=np.unique(adult_data[name])\n",
    "#     #print(key)\n",
    "#     le=preprocessing.LabelEncoder()\n",
    "#     le.fit(key)\n",
    "#     adult_test[name]=le.transform(adult_test[name])\n",
    "#     adult_data[name]=le.transform(adult_data[name])\n",
    "# #print(adult_data)"
   ]
  },
  {
   "cell_type": "code",
   "execution_count": 7,
   "metadata": {},
   "outputs": [
    {
     "name": "stderr",
     "output_type": "stream",
     "text": [
      "/home/larryytr/anaconda3/lib/python3.7/site-packages/pandas/core/ops.py:1649: FutureWarning: elementwise comparison failed; returning scalar instead, but in the future will perform elementwise comparison\n",
      "  result = method(y)\n"
     ]
    },
    {
     "name": "stdout",
     "output_type": "stream",
     "text": [
      "Randomforest: T=1: auc=0.629473 \n",
      "Randomforest: T=2: auc=0.717963 \n",
      "Randomforest: T=3: auc=0.783295 \n",
      "Randomforest: T=4: auc=0.810060 \n",
      "Randomforest: T=5: auc=0.799287 \n",
      "Randomforest: T=6: auc=0.795252 \n",
      "Randomforest: T=7: auc=0.839939 \n",
      "Randomforest: T=8: auc=0.848172 \n",
      "Randomforest: T=9: auc=0.830607 \n"
     ]
    },
    {
     "data": {
      "image/png": "[encoded data removed]",
      "text/plain": [
       "<Figure size 432x288 with 1 Axes>"
      ]
     },
     "metadata": {
      "needs_background": "light"
     },
     "output_type": "display_data"
    }
   ],
   "source": [
    "# # X_data=adult_data.values[0:150,0:14]\n",
    "# # #print(X_data[:,0:14])\n",
    "# # Y_data=adult_data.values[0:150,14]\n",
    "# # #print(Y_data)\n",
    "# # X_test=adult_test.values[0:150,0:14]\n",
    "# # #print(X_test[:,0:14])\n",
    "# # Y_test=adult_test.values[0:150,14]\n",
    "# # print(Y_test)\n",
    "# # #记得删除\n",
    "# X_data=np.array(adult_data.values[:,0:14])\n",
    "# #print(X_data[:,0:14])0\n",
    "# Y_data=np.array(adult_data.values[:,14])\n",
    "# #print(Y_data)\n",
    "# X_test=np.array(adult_test.values[:,0:14])\n",
    "# #print(X_test[:,0:14])\n",
    "# Y_test=np.array(adult_test.values[:,14])\n",
    "# X=np.vstack((X_data,X_test))\n",
    "# Y=np.hstack((Y_data,Y_test))\n",
    "X,Y=get_data()\n",
    "test_num=5\n",
    "plot_T=[]\n",
    "plot_auc=[]\n",
    "for t in range(1,10):\n",
    "    serand=t\n",
    "    mean_auc=0.0\n",
    "    mean_score=0.0\n",
    "    for i in range(test_num):\n",
    "        X_data,X_test,Y_data,Y_test=train_test_split(\n",
    "                X, Y, test_size=.20, random_state=i*serand)\n",
    "        Random_classfier=randomforest(t*25) #参数记得填\n",
    "        Random_classfier.fit(X_data,Y_data)\n",
    "        Y_pred=mat(Random_classfier.predict(X_test))\n",
    "        #y_pred=mat(Adaboost_classfier.predict(X_test))\n",
    "        Y_pred.astype(np.int)\n",
    "        Y_pred=np.array(np.ravel(Y_pred))\n",
    "        Y_true=np.array(Y_test)\n",
    "        precision, recall, thresholds = precision_recall_curve(Y_true,Y_pred)\n",
    "        pr_auc = auc(recall, precision)\n",
    "        mean_auc+=pr_auc\n",
    "#         score=accuracy_score(Y_test, np.array(Y_pred))\n",
    "#         mean_score+=score\n",
    "    plot_T.append(t*25)\n",
    "    plot_auc.append(mean_auc/test_num)\n",
    "    print(\"Randomforest: T=%d: auc=%f \"%(t*25,(mean_auc/test_num)))\n",
    "pl.plot(plot_T,plot_auc)\n",
    "kf = KFold(n_splits=5,random_state=0)\n",
    "\n",
    "for train_index, test_index in kf.split(X):\n",
    "    #print(train_index,test_index)\n",
    "    X_data=X[train_index]\n",
    "    X_test=X[test_index]\n",
    "    Y_data=Y[train_index]\n",
    "    Y_test=Y[test_index]\n",
    "    break;"
   ]
  },
  {
   "cell_type": "code",
   "execution_count": 8,
   "metadata": {},
   "outputs": [],
   "source": [
    "# a1 = np.random.choice(9,1,replace=False, p=None)\n",
    "# print(a1)\n"
   ]
  },
  {
   "cell_type": "code",
   "execution_count": 9,
   "metadata": {},
   "outputs": [],
   "source": [
    "\n",
    "# Y=np.random.rand(5,1)\n",
    "# print(Y)\n",
    "# X=np.random.rand(5,9)\n",
    "# m=X.shape[0]\n",
    "# print(X)\n",
    "# X_Y = np.hstack((X,Y))\n",
    "# np.random.shuffle(X_Y)\n",
    "\n",
    "# data_sets = []\n",
    "# for _ in range(1):\n",
    "#     idm = np.random.choice(m,m,replace=True)\n",
    "#     bootstrap_X_Y = X_Y[idm,:]\n",
    "#     bootstrap_X =  bootstrap_X_Y[:,:-1]\n",
    "#     bootstrap_Y =  bootstrap_X_Y[:,-1:]\n",
    "#     data_sets.append([bootstrap_X,bootstrap_Y])\n",
    "\n",
    "# print(data_sets)\n",
    "    "
   ]
  },
  {
   "cell_type": "code",
   "execution_count": 10,
   "metadata": {},
   "outputs": [
    {
     "name": "stdout",
     "output_type": "stream",
     "text": [
      "[0.05 0.34 0.01 ... 0.   0.13 0.02]\n"
     ]
    },
    {
     "ename": "ValueError",
     "evalue": "Classification metrics can't handle a mix of binary and continuous targets",
     "output_type": "error",
     "traceback": [
      "\u001b[0;31m---------------------------------------------------------------------------\u001b[0m",
      "\u001b[0;31mValueError\u001b[0m                                Traceback (most recent call last)",
      "\u001b[0;32m<ipython-input-10-23326e706438>\u001b[0m in \u001b[0;36m<module>\u001b[0;34m\u001b[0m\n\u001b[1;32m      6\u001b[0m \u001b[0my_true\u001b[0m\u001b[0;34m=\u001b[0m\u001b[0mnp\u001b[0m\u001b[0;34m.\u001b[0m\u001b[0marray\u001b[0m\u001b[0;34m(\u001b[0m\u001b[0mY_test\u001b[0m\u001b[0;34m)\u001b[0m\u001b[0;34m\u001b[0m\u001b[0;34m\u001b[0m\u001b[0m\n\u001b[1;32m      7\u001b[0m \u001b[0mprecision\u001b[0m\u001b[0;34m,\u001b[0m \u001b[0mrecall\u001b[0m\u001b[0;34m,\u001b[0m \u001b[0mthresholds\u001b[0m \u001b[0;34m=\u001b[0m \u001b[0mprecision_recall_curve\u001b[0m\u001b[0;34m(\u001b[0m \u001b[0my_true\u001b[0m\u001b[0;34m,\u001b[0m\u001b[0my_pred\u001b[0m\u001b[0;34m)\u001b[0m\u001b[0;34m\u001b[0m\u001b[0;34m\u001b[0m\u001b[0m\n\u001b[0;32m----> 8\u001b[0;31m \u001b[0mscore\u001b[0m\u001b[0;34m=\u001b[0m\u001b[0maccuracy_score\u001b[0m\u001b[0;34m(\u001b[0m\u001b[0my_true\u001b[0m\u001b[0;34m,\u001b[0m \u001b[0my_pred\u001b[0m\u001b[0;34m)\u001b[0m\u001b[0;34m\u001b[0m\u001b[0;34m\u001b[0m\u001b[0m\n\u001b[0m\u001b[1;32m      9\u001b[0m \u001b[0mprint\u001b[0m\u001b[0;34m(\u001b[0m\u001b[0mscore\u001b[0m\u001b[0;34m)\u001b[0m\u001b[0;34m\u001b[0m\u001b[0;34m\u001b[0m\u001b[0m\n\u001b[1;32m     10\u001b[0m \u001b[0mpr_auc\u001b[0m \u001b[0;34m=\u001b[0m \u001b[0mauc\u001b[0m\u001b[0;34m(\u001b[0m\u001b[0mrecall\u001b[0m\u001b[0;34m,\u001b[0m \u001b[0mprecision\u001b[0m\u001b[0;34m)\u001b[0m\u001b[0;34m\u001b[0m\u001b[0;34m\u001b[0m\u001b[0m\n",
      "\u001b[0;32m~/anaconda3/lib/python3.7/site-packages/sklearn/metrics/classification.py\u001b[0m in \u001b[0;36maccuracy_score\u001b[0;34m(y_true, y_pred, normalize, sample_weight)\u001b[0m\n\u001b[1;32m    174\u001b[0m \u001b[0;34m\u001b[0m\u001b[0m\n\u001b[1;32m    175\u001b[0m     \u001b[0;31m# Compute accuracy for each possible representation\u001b[0m\u001b[0;34m\u001b[0m\u001b[0;34m\u001b[0m\u001b[0;34m\u001b[0m\u001b[0m\n\u001b[0;32m--> 176\u001b[0;31m     \u001b[0my_type\u001b[0m\u001b[0;34m,\u001b[0m \u001b[0my_true\u001b[0m\u001b[0;34m,\u001b[0m \u001b[0my_pred\u001b[0m \u001b[0;34m=\u001b[0m \u001b[0m_check_targets\u001b[0m\u001b[0;34m(\u001b[0m\u001b[0my_true\u001b[0m\u001b[0;34m,\u001b[0m \u001b[0my_pred\u001b[0m\u001b[0;34m)\u001b[0m\u001b[0;34m\u001b[0m\u001b[0;34m\u001b[0m\u001b[0m\n\u001b[0m\u001b[1;32m    177\u001b[0m     \u001b[0mcheck_consistent_length\u001b[0m\u001b[0;34m(\u001b[0m\u001b[0my_true\u001b[0m\u001b[0;34m,\u001b[0m \u001b[0my_pred\u001b[0m\u001b[0;34m,\u001b[0m \u001b[0msample_weight\u001b[0m\u001b[0;34m)\u001b[0m\u001b[0;34m\u001b[0m\u001b[0;34m\u001b[0m\u001b[0m\n\u001b[1;32m    178\u001b[0m     \u001b[0;32mif\u001b[0m \u001b[0my_type\u001b[0m\u001b[0;34m.\u001b[0m\u001b[0mstartswith\u001b[0m\u001b[0;34m(\u001b[0m\u001b[0;34m'multilabel'\u001b[0m\u001b[0;34m)\u001b[0m\u001b[0;34m:\u001b[0m\u001b[0;34m\u001b[0m\u001b[0;34m\u001b[0m\u001b[0m\n",
      "\u001b[0;32m~/anaconda3/lib/python3.7/site-packages/sklearn/metrics/classification.py\u001b[0m in \u001b[0;36m_check_targets\u001b[0;34m(y_true, y_pred)\u001b[0m\n\u001b[1;32m     79\u001b[0m     \u001b[0;32mif\u001b[0m \u001b[0mlen\u001b[0m\u001b[0;34m(\u001b[0m\u001b[0my_type\u001b[0m\u001b[0;34m)\u001b[0m \u001b[0;34m>\u001b[0m \u001b[0;36m1\u001b[0m\u001b[0;34m:\u001b[0m\u001b[0;34m\u001b[0m\u001b[0;34m\u001b[0m\u001b[0m\n\u001b[1;32m     80\u001b[0m         raise ValueError(\"Classification metrics can't handle a mix of {0} \"\n\u001b[0;32m---> 81\u001b[0;31m                          \"and {1} targets\".format(type_true, type_pred))\n\u001b[0m\u001b[1;32m     82\u001b[0m \u001b[0;34m\u001b[0m\u001b[0m\n\u001b[1;32m     83\u001b[0m     \u001b[0;31m# We can't have more than one value on y_type => The set is no more needed\u001b[0m\u001b[0;34m\u001b[0m\u001b[0;34m\u001b[0m\u001b[0;34m\u001b[0m\u001b[0m\n",
      "\u001b[0;31mValueError\u001b[0m: Classification metrics can't handle a mix of binary and continuous targets"
     ]
    }
   ],
   "source": [
    "Random_classfier=randomforest() #参数记得填\n",
    "# X_data.replace(np.nan, 0, inplace=True)\n",
    "Random_classfier.fit(X_data,Y_data)\n",
    "y_pred=Random_classfier.predict(X_test)\n",
    "print(y_pred)\n",
    "y_true=np.array(Y_test)\n",
    "precision, recall, thresholds = precision_recall_curve( y_true,y_pred)\n",
    "score=accuracy_score(y_true, y_pred)\n",
    "print(score)\n",
    "pr_auc = auc(recall, precision)\n",
    "test_auc =metrics.roc_auc_score(y_true, y_pred)#验证集上的auc值\n",
    "pl.plot(recall, precision)\n",
    "print(\"auc\",roc_auc_score(y_true, y_pred))\n",
    "print(\"auc\",test_auc)\n"
   ]
  },
  {
   "cell_type": "code",
   "execution_count": null,
   "metadata": {},
   "outputs": [],
   "source": []
  },
  {
   "cell_type": "code",
   "execution_count": null,
   "metadata": {},
   "outputs": [],
   "source": []
  }
 ],
 "metadata": {
  "kernelspec": {
   "display_name": "Python 3",
   "language": "python",
   "name": "python3"
  },
  "language_info": {
   "codemirror_mode": {
    "name": "ipython",
    "version": 3
   },
   "file_extension": ".py",
   "mimetype": "text/x-python",
   "name": "python",
   "nbconvert_exporter": "python",
   "pygments_lexer": "ipython3",
   "version": "3.7.3"
  }
 },
 "nbformat": 4,
 "nbformat_minor": 2
}
