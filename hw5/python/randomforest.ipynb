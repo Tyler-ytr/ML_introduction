{
 "cells": [
  {
   "cell_type": "code",
   "execution_count": 1,
   "metadata": {},
   "outputs": [],
   "source": [
    "import numpy as np\n",
    "import pandas as pd\n",
    "\n",
    "# from compiler.ast import flatten\n",
    "from random import Random\n",
    "from pandas import DataFrame\n",
    "from numpy import log\n",
    "from numpy import mat\n",
    "from numpy import ones\n",
    "from sklearn import metrics\n",
    "from sklearn import tree\n",
    "from sklearn import preprocessing\n",
    "from sklearn.tree import DecisionTreeClassifier\n",
    "from sklearn.metrics import auc\n",
    "from sklearn.metrics import precision_recall_curve\n",
    "from sklearn.metrics import roc_curve\n",
    "from sklearn.metrics import roc_auc_score\n",
    "from sklearn.metrics import accuracy_score\n",
    "import matplotlib.pyplot as pl"
   ]
  },
  {
   "cell_type": "code",
   "execution_count": 2,
   "metadata": {},
   "outputs": [],
   "source": [
    "adult_header=[\"age\",\"workclass\",\"fnlwgt\",\"education\",\"education-num\",\n",
    "              \"marital-status\",\"occupation\",\"relationship\",\"race\",\"sex\",\"capital-gain\",\n",
    "              \"capital-loss\",\"hours-per-week\",\"native-country\",\"label\"]\n",
    "adult_data=pd.read_csv(\"./adult.data\",index_col=False,names=adult_header)\n",
    "adult_test=pd.read_csv(\"./adult2.test\",index_col=False,names=adult_header)"
   ]
  },
  {
   "cell_type": "code",
   "execution_count": 3,
   "metadata": {},
   "outputs": [
    {
     "name": "stderr",
     "output_type": "stream",
     "text": [
      "/home/larryytr/anaconda3/lib/python3.7/site-packages/pandas/core/ops.py:1649: FutureWarning: elementwise comparison failed; returning scalar instead, but in the future will perform elementwise comparison\n",
      "  result = method(y)\n"
     ]
    }
   ],
   "source": [
    "adult_data[adult_data==\" ?\"]=np.nan\n",
    "adult_test[adult_test==\" ?\"]=np.nan\n",
    "#print(adult_data[\"age\"])\n",
    "adult_data.dropna(axis=0,how='any',inplace=True)\n",
    "adult_test.dropna(axis=0,how='any',inplace=True)"
   ]
  },
  {
   "cell_type": "code",
   "execution_count": 4,
   "metadata": {},
   "outputs": [],
   "source": [
    "discre_name=[\"workclass\",\"education\",\"marital-status\",\n",
    "             \"occupation\",\"relationship\",\"race\",\n",
    "             \"sex\",\"native-country\",\"label\"]\n",
    "for name in discre_name:\n",
    "    key=np.unique(adult_data[name])\n",
    "    #print(key)\n",
    "    le=preprocessing.LabelEncoder()\n",
    "    le.fit(key)\n",
    "    adult_test[name]=le.transform(adult_test[name])\n",
    "    adult_data[name]=le.transform(adult_data[name])\n",
    "#print(adult_data)"
   ]
  },
  {
   "cell_type": "code",
   "execution_count": 5,
   "metadata": {},
   "outputs": [
    {
     "name": "stdout",
     "output_type": "stream",
     "text": [
      "[0 0 1 1 0 1 0 0 1 0 0 1 1 0 0 0 1 0 0 0 1 0 0 0 0 1 0 0 0 0 1 0 0 0 1 1 0\n",
      " 0 0 1 0 0 0 0 0 0 0 1 0 0 0 1 1 0 0 0 0 0 0 1 0 0 0 1 0 0 0 0 0 0 0 0 0 0\n",
      " 0 0 0 0 1 0 0 0 1 0 0 0 0 0 1 0 0 0 0 0 0 0 0 0 0 0 0 1 0 0 0 0 0 1 0 0 0\n",
      " 0 0 0 1 0 1 1 0 0 1 0 0 1 0 0 0 0 0 1 1 0 0 0 1 1 0 0 0 0 0 1 0 0 0 0 0 0\n",
      " 0 0]\n"
     ]
    }
   ],
   "source": [
    "X_data=adult_data.values[0:150,0:14]\n",
    "#print(X_data[:,0:14])\n",
    "Y_data=adult_data.values[0:150,14]\n",
    "#print(Y_data)\n",
    "X_test=adult_test.values[0:150,0:14]\n",
    "#print(X_test[:,0:14])\n",
    "Y_test=adult_test.values[0:150,14]\n",
    "print(Y_test)\n",
    "#记得删除"
   ]
  },
  {
   "cell_type": "code",
   "execution_count": null,
   "metadata": {},
   "outputs": [],
   "source": []
  }
 ],
 "metadata": {
  "kernelspec": {
   "display_name": "Python [conda env:root] *",
   "language": "python",
   "name": "conda-root-py"
  },
  "language_info": {
   "codemirror_mode": {
    "name": "ipython",
    "version": 3
   },
   "file_extension": ".py",
   "mimetype": "text/x-python",
   "name": "python",
   "nbconvert_exporter": "python",
   "pygments_lexer": "ipython3",
   "version": "3.7.3"
  }
 },
 "nbformat": 4,
 "nbformat_minor": 2
}
