{
 "cells": [
  {
   "cell_type": "code",
   "execution_count": 1,
   "metadata": {},
   "outputs": [],
   "source": [
    "import numpy as np\n",
    "import pandas as pd\n",
    "\n",
    "# from compiler.ast import flatten\n",
    "from random import Random\n",
    "from pandas import DataFrame\n",
    "from numpy import log\n",
    "from numpy import mat\n",
    "from numpy import ones\n",
    "from sklearn import metrics\n",
    "from sklearn import tree\n",
    "from sklearn import preprocessing\n",
    "from sklearn.tree import DecisionTreeClassifier\n",
    "from sklearn.metrics import auc\n",
    "from sklearn.metrics import precision_recall_curve\n",
    "from sklearn.metrics import roc_curve\n",
    "from sklearn.metrics import roc_auc_score\n",
    "from sklearn.metrics import accuracy_score\n",
    "import matplotlib.pyplot as pl\n",
    "from sklearn.model_selection import KFold"
   ]
  },
  {
   "cell_type": "code",
   "execution_count": 2,
   "metadata": {},
   "outputs": [],
   "source": [
    "class randomforest(object):\n",
    "    n_estimators=0 # 树的数量\n",
    "    max_features=0 #每棵树的选用数据集的最大特征数\n",
    "    min_samples_split=0 #每棵树最小分割数\n",
    "    min_gain=0 #每一颗树到min_gain之后就停止\n",
    "    max_depth=0 #每一颗树的最大层数\n",
    "    trees=[] #森林\n",
    "    trees_feature=[] #用来记录每一个树用了哪些特征\n",
    "    \n",
    "    def __init__(self,n_estimators=100,min_samples_split=3, min_gain=0,\n",
    "                 max_depth=None,max_features=None):\n",
    "        self.n_estimators = n_estimators\n",
    "        self.min_samples_split = min_samples_split\n",
    "        self.min_gain = min_gain\n",
    "        self.max_depth = max_depth\n",
    "        self.max_features = max_features \n",
    "        \n",
    "#         #建立森林(bulid forest)\n",
    "#         for _ in range(self.n_estimators):\n",
    "#             tree =DecisionTreeClassifier(min_samples_split=self.min_samples_split, min_impurity_split = self.min_gain,\n",
    "#                                       max_depth=self.max_depth)\n",
    "#             self.trees.append(tree)\n",
    "            #self.trees_feature.append(0)\n",
    "        \n",
    "    def get_bootstrap_data(self,X,Y):\n",
    "        # 用bookstarp的方法获得n_estimators组随机的数据\n",
    "        \n",
    "        m=X.shape[0]\n",
    "        Y=Y.reshape(m,1)\n",
    "        \n",
    "        #合并X和Y\n",
    "        X_Y=np.hstack((X,Y))\n",
    "        np.random.shuffle(X_Y) #X_Y随机化\n",
    "        \n",
    "        result_sets=[]\n",
    "        for _ in range(self.n_estimators):\n",
    "            now=np.random.choice(m,m,replace=True) #有放回,随机序列顺序\n",
    "            bootstrap_X_Y = X_Y[now,:]\n",
    "            bootstrap_X =  bootstrap_X_Y[:,:-1]\n",
    "            bootstrap_Y =  bootstrap_X_Y[:,-1:]\n",
    "            result_sets.append([bootstrap_X,bootstrap_Y])\n",
    "            \n",
    "        return result_sets\n",
    "    \n",
    "    def fit(self,X_train,Y_train):\n",
    "        # 每一颗树都通过get_bookstrap_data获得随机的数据集\n",
    "        \n",
    "        sub_sets=self.get_bootstrap_data(X_train,Y_train)\n",
    "        n_features=X_train.shape[1]\n",
    "        \n",
    "        if self.max_features == None:\n",
    "            self.max_features = int(np.sqrt(n_features))\n",
    "\n",
    "        for i in range (self.n_estimators):\n",
    "            # 现在为每一颗树选择随机的特征\n",
    "            tree =DecisionTreeClassifier(min_samples_split=self.min_samples_split,min_impurity_decrease = self.min_gain,\n",
    "                                      max_depth=self.max_depth)\n",
    "            \n",
    "            sub_X,sub_Y=sub_sets[i]\n",
    "            features=np.random.choice(n_features,self.max_features,replace=True)\n",
    "            sub_X=sub_X[:,features]\n",
    "            #print(\"X\",sub_X)\n",
    "            #print(\"X\",sub_Y)\n",
    "            tree.fit(sub_X,sub_Y)\n",
    "            self.trees.append(tree)\n",
    "            self.trees_feature.append(features)\n",
    "    \n",
    "    def predict(self,X):\n",
    "        y_preds=[]\n",
    "        for i in range(self.n_estimators):\n",
    "            features=self.trees_feature[i]\n",
    "            sub_X=X[:,features]\n",
    "            y_pre=self.trees[i].predict(sub_X)\n",
    "            y_preds.append(y_pre)\n",
    "        \n",
    "        y_preds=np.array(y_preds).T\n",
    "        y_pred=[]\n",
    "        \n",
    "        for y_p in y_preds:\n",
    "             y_pred.append(np.bincount(y_p.astype('int')).argmax()) #np.bincount()可以统计每个索引出现的次数,np.argmax()可以返回数组中最大值的索引\n",
    "        \n",
    "        return y_pred\n",
    "        \n",
    "        \n",
    "            \n",
    "            "
   ]
  },
  {
   "cell_type": "code",
   "execution_count": 3,
   "metadata": {},
   "outputs": [],
   "source": [
    "adult_header=[\"age\",\"workclass\",\"fnlwgt\",\"education\",\"education-num\",\n",
    "              \"marital-status\",\"occupation\",\"relationship\",\"race\",\"sex\",\"capital-gain\",\n",
    "              \"capital-loss\",\"hours-per-week\",\"native-country\",\"label\"]\n",
    "adult_data=pd.read_csv(\"./adult.data\",index_col=False,names=adult_header)\n",
    "adult_test=pd.read_csv(\"./adult2.test\",index_col=False,names=adult_header)"
   ]
  },
  {
   "cell_type": "code",
   "execution_count": 4,
   "metadata": {},
   "outputs": [
    {
     "name": "stderr",
     "output_type": "stream",
     "text": [
      "/home/larryytr/anaconda3/lib/python3.7/site-packages/pandas/core/ops.py:1649: FutureWarning: elementwise comparison failed; returning scalar instead, but in the future will perform elementwise comparison\n",
      "  result = method(y)\n"
     ]
    }
   ],
   "source": [
    "adult_data[adult_data==\" ?\"]=np.nan\n",
    "adult_test[adult_test==\" ?\"]=np.nan\n",
    "#print(adult_data[\"age\"])\n",
    "adult_data.dropna(axis=0,how='any',inplace=True)\n",
    "adult_test.dropna(axis=0,how='any',inplace=True)"
   ]
  },
  {
   "cell_type": "code",
   "execution_count": 5,
   "metadata": {},
   "outputs": [],
   "source": [
    "discre_name=[\"workclass\",\"education\",\"marital-status\",\n",
    "             \"occupation\",\"relationship\",\"race\",\n",
    "             \"sex\",\"native-country\",\"label\"]\n",
    "for name in discre_name:\n",
    "    key=np.unique(adult_data[name])\n",
    "    #print(key)\n",
    "    le=preprocessing.LabelEncoder()\n",
    "    le.fit(key)\n",
    "    adult_test[name]=le.transform(adult_test[name])\n",
    "    adult_data[name]=le.transform(adult_data[name])\n",
    "#print(adult_data)"
   ]
  },
  {
   "cell_type": "code",
   "execution_count": 6,
   "metadata": {},
   "outputs": [
    {
     "name": "stdout",
     "output_type": "stream",
     "text": [
      "[ 60  61  62  63  64  65  66  67  68  69  70  71  72  73  74  75  76  77\n",
      "  78  79  80  81  82  83  84  85  86  87  88  89  90  91  92  93  94  95\n",
      "  96  97  98  99 100 101 102 103 104 105 106 107 108 109 110 111 112 113\n",
      " 114 115 116 117 118 119 120 121 122 123 124 125 126 127 128 129 130 131\n",
      " 132 133 134 135 136 137 138 139 140 141 142 143 144 145 146 147 148 149\n",
      " 150 151 152 153 154 155 156 157 158 159 160 161 162 163 164 165 166 167\n",
      " 168 169 170 171 172 173 174 175 176 177 178 179 180 181 182 183 184 185\n",
      " 186 187 188 189 190 191 192 193 194 195 196 197 198 199 200 201 202 203\n",
      " 204 205 206 207 208 209 210 211 212 213 214 215 216 217 218 219 220 221\n",
      " 222 223 224 225 226 227 228 229 230 231 232 233 234 235 236 237 238 239\n",
      " 240 241 242 243 244 245 246 247 248 249 250 251 252 253 254 255 256 257\n",
      " 258 259 260 261 262 263 264 265 266 267 268 269 270 271 272 273 274 275\n",
      " 276 277 278 279 280 281 282 283 284 285 286 287 288 289 290 291 292 293\n",
      " 294 295 296 297 298 299] [ 0  1  2  3  4  5  6  7  8  9 10 11 12 13 14 15 16 17 18 19 20 21 22 23\n",
      " 24 25 26 27 28 29 30 31 32 33 34 35 36 37 38 39 40 41 42 43 44 45 46 47\n",
      " 48 49 50 51 52 53 54 55 56 57 58 59]\n"
     ]
    }
   ],
   "source": [
    "# X_data=adult_data.values[0:150,0:14]\n",
    "# #print(X_data[:,0:14])\n",
    "# Y_data=adult_data.values[0:150,14]\n",
    "# #print(Y_data)\n",
    "# X_test=adult_test.values[0:150,0:14]\n",
    "# #print(X_test[:,0:14])\n",
    "# Y_test=adult_test.values[0:150,14]\n",
    "# print(Y_test)\n",
    "# #记得删除\n",
    "X_data=np.array(adult_data.values[0:150,0:14])\n",
    "#print(X_data[:,0:14])\n",
    "Y_data=np.array(adult_data.values[0:150,14])\n",
    "#print(Y_data)\n",
    "X_test=np.array(adult_test.values[0:150,0:14])\n",
    "#print(X_test[:,0:14])\n",
    "Y_test=np.array(adult_test.values[0:150,14])\n",
    "X=np.vstack((X_data,X_test))\n",
    "Y=np.hstack((Y_data,Y_test))\n",
    "kf = KFold(n_splits=5,random_state=0)\n",
    "\n",
    "for train_index, test_index in kf.split(X):\n",
    "    print(train_index,test_index)\n",
    "    X_data=X[train_index]\n",
    "    X_test=X[test_index]\n",
    "    Y_data=Y[train_index]\n",
    "    Y_test=Y[test_index]\n",
    "    break;"
   ]
  },
  {
   "cell_type": "code",
   "execution_count": 7,
   "metadata": {},
   "outputs": [],
   "source": [
    "# a1 = np.random.choice(5,5,replace=False, p=None)\n",
    "# print(a1)\n"
   ]
  },
  {
   "cell_type": "code",
   "execution_count": 8,
   "metadata": {},
   "outputs": [],
   "source": [
    "\n",
    "# Y=np.random.rand(5,1)\n",
    "# print(Y)\n",
    "# X=np.random.rand(5,9)\n",
    "# m=X.shape[0]\n",
    "# print(X)\n",
    "# X_Y = np.hstack((X,Y))\n",
    "# np.random.shuffle(X_Y)\n",
    "\n",
    "# data_sets = []\n",
    "# for _ in range(1):\n",
    "#     idm = np.random.choice(m,m,replace=True)\n",
    "#     bootstrap_X_Y = X_Y[idm,:]\n",
    "#     bootstrap_X =  bootstrap_X_Y[:,:-1]\n",
    "#     bootstrap_Y =  bootstrap_X_Y[:,-1:]\n",
    "#     data_sets.append([bootstrap_X,bootstrap_Y])\n",
    "\n",
    "# print(data_sets)\n",
    "    "
   ]
  },
  {
   "cell_type": "code",
   "execution_count": 9,
   "metadata": {},
   "outputs": [
    {
     "name": "stdout",
     "output_type": "stream",
     "text": [
      "[0, 0, 0, 0, 0, 0, 0, 0, 0, 0, 0, 0, 0, 0, 0, 0, 0, 0, 0, 0, 0, 0, 0, 0, 0, 0, 0, 0, 0, 0, 0, 0, 0, 0, 0, 0, 0, 0, 0, 0, 0, 0, 0, 0, 0, 0, 0, 0, 1, 0, 0, 0, 0, 0, 0, 0, 0, 0, 1, 0]\n",
      "0.8166666666666667\n",
      "auc 0.5769230769230769\n",
      "auc 0.5769230769230769\n"
     ]
    },
    {
     "data": {
      "image/png": "[encoded data removed]",
      "text/plain": [
       "<Figure size 432x288 with 1 Axes>"
      ]
     },
     "metadata": {
      "needs_background": "light"
     },
     "output_type": "display_data"
    }
   ],
   "source": [
    "Random_classfier=randomforest() #参数记得填\n",
    "# X_data.replace(np.nan, 0, inplace=True)\n",
    "Random_classfier.fit(X_data,Y_data)\n",
    "y_pred=Random_classfier.predict(X_test)\n",
    "print(y_pred)\n",
    "y_true=np.array(Y_test)\n",
    "precision, recall, thresholds = precision_recall_curve( y_true,y_pred)\n",
    "score=accuracy_score(y_true, y_pred)\n",
    "print(score)\n",
    "pr_auc = auc(recall, precision)\n",
    "test_auc =metrics.roc_auc_score(y_true, y_pred)#验证集上的auc值\n",
    "pl.plot(recall, precision)\n",
    "print(\"auc\",roc_auc_score(y_true, y_pred))\n",
    "print(\"auc\",test_auc)\n"
   ]
  },
  {
   "cell_type": "code",
   "execution_count": null,
   "metadata": {},
   "outputs": [],
   "source": []
  },
  {
   "cell_type": "code",
   "execution_count": null,
   "metadata": {},
   "outputs": [],
   "source": []
  }
 ],
 "metadata": {
  "kernelspec": {
   "display_name": "Python [conda env:root] *",
   "language": "python",
   "name": "conda-root-py"
  },
  "language_info": {
   "codemirror_mode": {
    "name": "ipython",
    "version": 3
   },
   "file_extension": ".py",
   "mimetype": "text/x-python",
   "name": "python",
   "nbconvert_exporter": "python",
   "pygments_lexer": "ipython3",
   "version": "3.7.3"
  }
 },
 "nbformat": 4,
 "nbformat_minor": 2
}
